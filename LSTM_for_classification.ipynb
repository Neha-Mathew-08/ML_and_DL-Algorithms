{
  "nbformat": 4,
  "nbformat_minor": 0,
  "metadata": {
    "colab": {
      "provenance": []
    },
    "kernelspec": {
      "name": "python3",
      "display_name": "Python 3"
    },
    "language_info": {
      "name": "python"
    }
  },
  "cells": [
    {
      "cell_type": "code",
      "source": [
        "#impporting necessary packages\n",
        "import numpy as np\n",
        "from sklearn.model_selection import train_test_split\n",
        "from keras.models import Sequential\n",
        "from keras.layers import LSTM, Dense\n",
        "from keras.optimizers import Adam\n",
        "import pandas as pd"
      ],
      "metadata": {
        "id": "zo0rNcAjeMr1"
      },
      "execution_count": null,
      "outputs": []
    },
    {
      "cell_type": "code",
      "execution_count": null,
      "metadata": {
        "id": "7j5bt8pQeBbI"
      },
      "outputs": [],
      "source": [
        "data=pd.read_excel(\"data.xlsx\")\n",
        "#Seprating dependent variable from independent variables\n",
        "X=data.iloc[:,0:8]\n",
        "Y=data[\"Outcome\"]\n"
      ]
    },
    {
      "cell_type": "code",
      "source": [
        "# Splitting the X and Y into the\n",
        "# Training set and Testing set\n",
        "from sklearn.model_selection import train_test_split as tts\n",
        "X_train, X_test, Y_train, Y_test = tts(X, Y, test_size = 0.2, random_state = 50,shuffle=True)"
      ],
      "metadata": {
        "id": "MK-rD8l7eG3B"
      },
      "execution_count": null,
      "outputs": []
    },
    {
      "cell_type": "code",
      "source": [
        "# Reshape the data for LSTM input\n",
        "X_train = np.expand_dims(X_train, axis=1)\n",
        "X_test = np.expand_dims(X_test, axis=1)"
      ],
      "metadata": {
        "id": "yc-2908riFEd"
      },
      "execution_count": null,
      "outputs": []
    },
    {
      "cell_type": "code",
      "source": [
        "# Define the LSTM model\n",
        "model = Sequential()"
      ],
      "metadata": {
        "id": "h5gDfbTaeaOw"
      },
      "execution_count": null,
      "outputs": []
    },
    {
      "cell_type": "code",
      "source": [
        "# Add an LSTM layer with 64 units and input shape of (1, num_features)\n",
        "model.add(LSTM(64, input_shape=(X_train.shape[1], X_train.shape[2])))"
      ],
      "metadata": {
        "id": "cg2Wo6AJefVR"
      },
      "execution_count": null,
      "outputs": []
    },
    {
      "cell_type": "code",
      "source": [
        "# Add a dense output layer with sigmoid activation for binary classification\n",
        "model.add(Dense(1, activation='sigmoid'))"
      ],
      "metadata": {
        "id": "ax4AiyNbgThG"
      },
      "execution_count": null,
      "outputs": []
    },
    {
      "cell_type": "code",
      "source": [
        "# Compile the model\n",
        "model.compile(optimizer=Adam(), loss='binary_crossentropy', metrics=['accuracy'])\n",
        "\n"
      ],
      "metadata": {
        "id": "nJ_Zm9twiRGx"
      },
      "execution_count": null,
      "outputs": []
    },
    {
      "cell_type": "code",
      "source": [
        "# Train the model\n",
        "model.fit(X_train, Y_train, epochs=10, batch_size=32, validation_split=0.2)\n",
        "\n"
      ],
      "metadata": {
        "colab": {
          "base_uri": "https://localhost:8080/"
        },
        "id": "3M23ASH2iTBw",
        "outputId": "1f30b776-c17e-41c1-e866-d0c435556dd1"
      },
      "execution_count": null,
      "outputs": [
        {
          "output_type": "stream",
          "name": "stdout",
          "text": [
            "Epoch 1/10\n",
            "16/16 [==============================] - 6s 41ms/step - loss: 0.6601 - accuracy: 0.5967 - val_loss: 0.5578 - val_accuracy: 0.7317\n",
            "Epoch 2/10\n",
            "16/16 [==============================] - 0s 9ms/step - loss: 0.6161 - accuracy: 0.6436 - val_loss: 0.5474 - val_accuracy: 0.7398\n",
            "Epoch 3/10\n",
            "16/16 [==============================] - 0s 10ms/step - loss: 0.6038 - accuracy: 0.6517 - val_loss: 0.5500 - val_accuracy: 0.7480\n",
            "Epoch 4/10\n",
            "16/16 [==============================] - 0s 12ms/step - loss: 0.5928 - accuracy: 0.6680 - val_loss: 0.5498 - val_accuracy: 0.7398\n",
            "Epoch 5/10\n",
            "16/16 [==============================] - 0s 8ms/step - loss: 0.5842 - accuracy: 0.6782 - val_loss: 0.5482 - val_accuracy: 0.7398\n",
            "Epoch 6/10\n",
            "16/16 [==============================] - 0s 5ms/step - loss: 0.5791 - accuracy: 0.6864 - val_loss: 0.5392 - val_accuracy: 0.7317\n",
            "Epoch 7/10\n",
            "16/16 [==============================] - 0s 5ms/step - loss: 0.5745 - accuracy: 0.7026 - val_loss: 0.5411 - val_accuracy: 0.7480\n",
            "Epoch 8/10\n",
            "16/16 [==============================] - 0s 12ms/step - loss: 0.5697 - accuracy: 0.7006 - val_loss: 0.5412 - val_accuracy: 0.7398\n",
            "Epoch 9/10\n",
            "16/16 [==============================] - 0s 18ms/step - loss: 0.5663 - accuracy: 0.7128 - val_loss: 0.5305 - val_accuracy: 0.7561\n",
            "Epoch 10/10\n",
            "16/16 [==============================] - 0s 9ms/step - loss: 0.5611 - accuracy: 0.7149 - val_loss: 0.5327 - val_accuracy: 0.7561\n"
          ]
        },
        {
          "output_type": "execute_result",
          "data": {
            "text/plain": [
              "<keras.callbacks.History at 0x7f4d01373f40>"
            ]
          },
          "metadata": {},
          "execution_count": 13
        }
      ]
    },
    {
      "cell_type": "code",
      "source": [
        "# Evaluate the model on test data\n",
        "score = model.evaluate(X_test, Y_test, batch_size=32)\n",
        "print(\"Test Loss:\", score[0])\n",
        "print(\"Test Accuracy:\", score[1])"
      ],
      "metadata": {
        "colab": {
          "base_uri": "https://localhost:8080/"
        },
        "id": "yZXIeJ0niU4g",
        "outputId": "9d7cc399-bee8-4e7b-8534-8d6ebd865179"
      },
      "execution_count": null,
      "outputs": [
        {
          "output_type": "stream",
          "name": "stdout",
          "text": [
            "5/5 [==============================] - 0s 3ms/step - loss: 0.5988 - accuracy: 0.7208\n",
            "Test Loss: 0.5988372564315796\n",
            "Test Accuracy: 0.7207792401313782\n"
          ]
        }
      ]
    }
  ]
}