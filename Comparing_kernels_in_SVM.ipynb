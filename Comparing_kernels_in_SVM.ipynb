{
  "nbformat": 4,
  "nbformat_minor": 0,
  "metadata": {
    "colab": {
      "provenance": []
    },
    "kernelspec": {
      "name": "python3",
      "display_name": "Python 3"
    },
    "language_info": {
      "name": "python"
    }
  },
  "cells": [
    {
      "cell_type": "markdown",
      "source": [
        "Implementing Classification using SVM with different kernals to understand which Kernal give more accurate result"
      ],
      "metadata": {
        "id": "HrgpHjRzNTC6"
      }
    },
    {
      "cell_type": "code",
      "source": [
        "#importing packages\n",
        "from sklearn import svm\n",
        "from sklearn.model_selection import train_test_split\n",
        "from sklearn.preprocessing import StandardScaler\n"
      ],
      "metadata": {
        "id": "2BLYNmVw_kYh"
      },
      "execution_count": null,
      "outputs": []
    },
    {
      "cell_type": "code",
      "source": [
        "#Loading data\n",
        "import pandas as pd\n",
        "data = pd.read_excel(\"data.xlsx\")\n",
        "X=data.iloc[:,0:8]\n",
        "Y=data[\"Outcome\"]"
      ],
      "metadata": {
        "id": "2eS7nUGH_lld"
      },
      "execution_count": null,
      "outputs": []
    },
    {
      "cell_type": "code",
      "source": [
        "# Split the dataset into training and testing sets\n",
        "X_train, X_test, y_train, y_test = train_test_split(X, Y, test_size = 0.2, random_state = 50,shuffle=True)\n",
        "\n",
        "# Scale the features\n",
        "scaler = StandardScaler()\n",
        "X_train = scaler.fit_transform(X_train)\n",
        "X_test = scaler.transform(X_test)"
      ],
      "metadata": {
        "id": "_lD6VFzLBLxt"
      },
      "execution_count": null,
      "outputs": []
    },
    {
      "cell_type": "markdown",
      "source": [
        "Create an SVM object with a linear kernel"
      ],
      "metadata": {
        "id": "kTmg-r-YNjG7"
      }
    },
    {
      "cell_type": "code",
      "source": [
        "\n",
        "svm_classifier_linear = svm.SVC(kernel='linear') ##scikit-learn automatically scales the feature values before computing the gamma value\n",
        "\n",
        "# Train the SVM model\n",
        "svm_classifier_linear.fit(X_train, y_train)\n",
        "\n",
        "# Predict the output on the test data\n",
        "y_pred_linear = svm_classifier_linear.predict(X_test)\n",
        "\n",
        "# Print the accuracy score of the model\n",
        "print(\"Accuracy:\", svm_classifier_linear.score(X_test, y_test))\n",
        "\n",
        "#finding all metrics\n",
        "from sklearn.metrics import classification_report\n",
        "acc1=classification_report(y_pred_linear,y_test)\n",
        "print(acc1)"
      ],
      "metadata": {
        "colab": {
          "base_uri": "https://localhost:8080/"
        },
        "id": "O2-KW5lGBQ7h",
        "outputId": "552ec697-a4f1-4dcb-d88a-a11db43ec33c"
      },
      "execution_count": null,
      "outputs": [
        {
          "output_type": "stream",
          "name": "stdout",
          "text": [
            "Accuracy: 0.7727272727272727\n",
            "              precision    recall  f1-score   support\n",
            "\n",
            "           0       0.88      0.79      0.83       108\n",
            "           1       0.60      0.74      0.66        46\n",
            "\n",
            "    accuracy                           0.77       154\n",
            "   macro avg       0.74      0.76      0.74       154\n",
            "weighted avg       0.79      0.77      0.78       154\n",
            "\n"
          ]
        }
      ]
    },
    {
      "cell_type": "markdown",
      "source": [
        "Create an SVM object with a Sigmoid kernel"
      ],
      "metadata": {
        "id": "_kmoEG14Nl1q"
      }
    },
    {
      "cell_type": "code",
      "source": [
        "# Create an SVM object with a linear kernel\n",
        "svm_classifier_sigmoid = svm.SVC(kernel='sigmoid') #scikit-learn automatically scales the feature values before computing the gamma value\n",
        "\n",
        "# Train the SVM model\n",
        "svm_classifier_sigmoid.fit(X_train, y_train)\n",
        "\n",
        "# Predict the output on the test data\n",
        "y_pred_sigmoid = svm_classifier_sigmoid.predict(X_test)\n",
        "\n",
        "# Print the accuracy score of the model\n",
        "print(\"Accuracy:\", svm_classifier_sigmoid.score(X_test, y_test))\n",
        "\n",
        "#finding all metrics\n",
        "from sklearn.metrics import classification_report\n",
        "acc2=classification_report(y_pred_sigmoid,y_test)\n",
        "print(acc2)"
      ],
      "metadata": {
        "colab": {
          "base_uri": "https://localhost:8080/"
        },
        "id": "jOmbrPhaBwRc",
        "outputId": "9ae4739a-d4c8-4a70-8686-e14f20e40774"
      },
      "execution_count": null,
      "outputs": [
        {
          "output_type": "stream",
          "name": "stdout",
          "text": [
            "Accuracy: 0.6948051948051948\n",
            "              precision    recall  f1-score   support\n",
            "\n",
            "           0       0.74      0.77      0.75        94\n",
            "           1       0.61      0.58      0.60        60\n",
            "\n",
            "    accuracy                           0.69       154\n",
            "   macro avg       0.68      0.67      0.68       154\n",
            "weighted avg       0.69      0.69      0.69       154\n",
            "\n"
          ]
        }
      ]
    },
    {
      "cell_type": "markdown",
      "source": [
        "Create an SVM object with a Polynomial kernel"
      ],
      "metadata": {
        "id": "7NuS6U22Nq7t"
      }
    },
    {
      "cell_type": "code",
      "source": [
        "# Create an SVM object with a linear kernel\n",
        "svm_classifier_polynomial = svm.SVC(kernel='poly', degree=3, gamma='scale') #scikit-learn automatically scales the feature values before computing the gamma value\n",
        "\n",
        "# Train the SVM model\n",
        "svm_classifier_polynomial.fit(X_train, y_train)\n",
        "\n",
        "# Predict the output on the test data\n",
        "y_pred_polynomial = svm_classifier_polynomial.predict(X_test)\n",
        "\n",
        "# Print the accuracy score of the model\n",
        "print(\"Accuracy:\", svm_classifier_polynomial.score(X_test, y_test))\n",
        "\n",
        "#finding all metrics\n",
        "from sklearn.metrics import classification_report\n",
        "acc3=classification_report(y_pred_polynomial,y_test)\n",
        "print(acc3)"
      ],
      "metadata": {
        "colab": {
          "base_uri": "https://localhost:8080/"
        },
        "outputId": "0502842b-c157-452a-d41d-cf3b1b0a7fba",
        "id": "p4sDZSiEMOD5"
      },
      "execution_count": null,
      "outputs": [
        {
          "output_type": "stream",
          "name": "stdout",
          "text": [
            "Accuracy: 0.6883116883116883\n",
            "              precision    recall  f1-score   support\n",
            "\n",
            "           0       0.90      0.70      0.78       125\n",
            "           1       0.33      0.66      0.44        29\n",
            "\n",
            "    accuracy                           0.69       154\n",
            "   macro avg       0.62      0.68      0.61       154\n",
            "weighted avg       0.79      0.69      0.72       154\n",
            "\n"
          ]
        }
      ]
    },
    {
      "cell_type": "markdown",
      "source": [
        "Create an SVM object with a Radial basis function (RBF) kernel"
      ],
      "metadata": {
        "id": "uUIGFpOwNuVq"
      }
    },
    {
      "cell_type": "code",
      "source": [
        "# Create an SVM object with a linear kernel\n",
        "svm_classifier_RBF = svm.SVC(kernel='rbf', gamma='scale') #scikit-learn automatically scales the feature values before computing the gamma value\n",
        "\n",
        "# Train the SVM model\n",
        "svm_classifier_RBF.fit(X_train, y_train)\n",
        "\n",
        "# Predict the output on the test data\n",
        "y_pred_RBF = svm_classifier_RBF.predict(X_test)\n",
        "\n",
        "# Print the accuracy score of the model\n",
        "print(\"Accuracy:\", svm_classifier_RBF.score(X_test, y_test))\n",
        "\n",
        "#finding all metrics\n",
        "from sklearn.metrics import classification_report\n",
        "acc4=classification_report(y_pred_RBF,y_test)\n",
        "print(acc4)"
      ],
      "metadata": {
        "colab": {
          "base_uri": "https://localhost:8080/"
        },
        "id": "2da7IC2tMjAO",
        "outputId": "44aafa46-3236-4bf5-ceee-081a5d6b0f4e"
      },
      "execution_count": null,
      "outputs": [
        {
          "output_type": "stream",
          "name": "stdout",
          "text": [
            "Accuracy: 0.7077922077922078\n",
            "              precision    recall  f1-score   support\n",
            "\n",
            "           0       0.84      0.74      0.78       110\n",
            "           1       0.49      0.64      0.55        44\n",
            "\n",
            "    accuracy                           0.71       154\n",
            "   macro avg       0.66      0.69      0.67       154\n",
            "weighted avg       0.74      0.71      0.72       154\n",
            "\n"
          ]
        }
      ]
    }
  ]
}