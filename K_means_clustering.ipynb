{
  "nbformat": 4,
  "nbformat_minor": 0,
  "metadata": {
    "colab": {
      "provenance": []
    },
    "kernelspec": {
      "name": "python3",
      "display_name": "Python 3"
    },
    "language_info": {
      "name": "python"
    }
  },
  "cells": [
    {
      "cell_type": "code",
      "execution_count": null,
      "metadata": {
        "id": "QpQDuBuw89yD"
      },
      "outputs": [],
      "source": [
        "#importing necessary packages and the data set\n",
        "import pandas as pd\n",
        "import numpy as np\n",
        "\n",
        "data=pd.read_excel(\"data.xlsx\")\n",
        "#Seprating dependent variable from independent variables\n",
        "X=data.iloc[:,0:8]\n",
        "Y=data[\"Outcome\"]"
      ]
    },
    {
      "cell_type": "code",
      "source": [
        "# Splitting the X and Y into the Training set and Testing set\n",
        "from sklearn.model_selection import train_test_split as tts\n",
        "X_train, X_test, y_train, y_test = tts(X, Y, test_size = 0.2, random_state = 50,shuffle=True)"
      ],
      "metadata": {
        "id": "kN8JJ8aB9SJp"
      },
      "execution_count": null,
      "outputs": []
    },
    {
      "cell_type": "code",
      "source": [
        "from sklearn.cluster import KMeans\n",
        "# Initialize K-means algorithm with 2 clusters\n",
        "kmeans = KMeans(n_clusters=2, random_state=0)\n",
        "\n",
        "# Fit K-means to the training data\n",
        "kmeans.fit(X_train)\n",
        "\n",
        "# Predict cluster assignments for the test data\n",
        "y_pred = kmeans.predict(X_test)\n",
        "\n",
        "# Map predicted cluster assignments to binary labels\n",
        "y_pred_binary = np.zeros_like(y_pred)\n",
        "y_pred_binary[np.where(y_pred == np.argmax(np.bincount(y_train)))] = 1\n",
        "\n",
        "from sklearn.metrics import classification_report\n",
        "print(classification_report(y_pred_binary,y_test))\n",
        "\n"
      ],
      "metadata": {
        "colab": {
          "base_uri": "https://localhost:8080/"
        },
        "id": "zgGfzhn-9Wp7",
        "outputId": "99bb58ed-915b-405d-a20c-7a487a8d34d3"
      },
      "execution_count": null,
      "outputs": [
        {
          "output_type": "stream",
          "name": "stdout",
          "text": [
            "              precision    recall  f1-score   support\n",
            "\n",
            "           0       0.87      0.69      0.77       122\n",
            "           1       0.33      0.59      0.43        32\n",
            "\n",
            "    accuracy                           0.67       154\n",
            "   macro avg       0.60      0.64      0.60       154\n",
            "weighted avg       0.76      0.67      0.70       154\n",
            "\n"
          ]
        },
        {
          "output_type": "stream",
          "name": "stderr",
          "text": [
            "/usr/local/lib/python3.9/dist-packages/sklearn/cluster/_kmeans.py:870: FutureWarning: The default value of `n_init` will change from 10 to 'auto' in 1.4. Set the value of `n_init` explicitly to suppress the warning\n",
            "  warnings.warn(\n"
          ]
        }
      ]
    },
    {
      "cell_type": "code",
      "source": [
        "import seaborn as sns\n",
        "import matplotlib.pyplot as plt\n",
        "\n",
        "from sklearn.metrics import confusion_matrix\n",
        "# Calculate confusion matrix to evaluate performance\n",
        "confusion = confusion_matrix(y_test, y_pred_binary)\n",
        "\n",
        "# Plot confusion matrix as heatmap\n",
        "ax = plt.subplot()\n",
        "sns.heatmap(confusion, annot=True, ax=ax, cmap=\"Blues\")\n",
        "\n",
        "# Add labels, title and ticks\n",
        "ax.set_xlabel('Predicted labels')\n",
        "ax.set_ylabel('True labels')\n",
        "ax.set_title('Confusion Matrix')\n",
        "ax.xaxis.set_ticklabels(['0', '1'])\n",
        "ax.yaxis.set_ticklabels(['0', '1'])\n",
        "plt.show()"
      ],
      "metadata": {
        "colab": {
          "base_uri": "https://localhost:8080/",
          "height": 295
        },
        "id": "XlJ3brzS_ImW",
        "outputId": "06b7c506-0757-4858-e2dd-9844257619d0"
      },
      "execution_count": null,
      "outputs": [
        {
          "output_type": "display_data",
          "data": {
            "text/plain": [
              "<Figure size 432x288 with 2 Axes>"
            ],
            "image/png": "[encoded data removed]"
          },
          "metadata": {
            "needs_background": "light"
          }
        }
      ]
    }
  ]
}