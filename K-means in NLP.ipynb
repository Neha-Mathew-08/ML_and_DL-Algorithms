{
  "cells": [
    {
      "cell_type": "code",
      "execution_count": 1,
      "metadata": {
        "id": "4pWL2JiPCJAv"
      },
      "outputs": [],
      "source": [
        "text = [\"kaziranga national park\", \"kanha tiger reserve\", \"bandipur national park\", \"keoladeo national park\", \"periyar national park\", \"jim corbett national park\", \"gir national park\", \"ranthambore tiger reserve\", \"ranganathittu bird park\", \"ghatprabha bird sanctuary\", \"manas national park\",\n",
        "\"vedanthangal bird sanctuary\"]"
      ]
    },
    {
      "cell_type": "markdown",
      "metadata": {
        "id": "xX2Lq7RSkm1K"
      },
      "source": [
        "#1. Create a TFIDF document-term matrix for the above documents."
      ]
    },
    {
      "cell_type": "code",
      "execution_count": 2,
      "metadata": {
        "id": "1yKoiH-5CSqm"
      },
      "outputs": [],
      "source": [
        "from sklearn.feature_extraction.text import TfidfVectorizer"
      ]
    },
    {
      "cell_type": "code",
      "execution_count": 3,
      "metadata": {
        "id": "bHnIEFmoDfJR"
      },
      "outputs": [],
      "source": [
        "v = TfidfVectorizer()"
      ]
    },
    {
      "cell_type": "code",
      "execution_count": 4,
      "metadata": {
        "id": "QHuDyaGbDjTg"
      },
      "outputs": [],
      "source": [
        "tfidfmatrix = v.fit_transform(text)"
      ]
    },
    {
      "cell_type": "code",
      "execution_count": 5,
      "metadata": {
        "colab": {
          "base_uri": "https://localhost:8080/"
        },
        "id": "1UMNHZfoDoP5",
        "outputId": "0ef12bda-9672-4a07-88e3-f63be2ab5bd1"
      },
      "outputs": [
        {
          "data": {
            "text/plain": [
              "array([[0.        , 0.        , 0.        , 0.        , 0.        ,\n",
              "        0.        , 0.        , 0.81802614, 0.        , 0.        ,\n",
              "        0.42314343, 0.38959321, 0.        , 0.        , 0.        ,\n",
              "        0.        , 0.        , 0.        , 0.        ],\n",
              "       [0.        , 0.        , 0.        , 0.        , 0.        ,\n",
              "        0.        , 0.63562699, 0.        , 0.        , 0.        ,\n",
              "        0.        , 0.        , 0.        , 0.        , 0.        ,\n",
              "        0.54588384, 0.        , 0.54588384, 0.        ],\n",
              "       [0.81802614, 0.        , 0.        , 0.        , 0.        ,\n",
              "        0.        , 0.        , 0.        , 0.        , 0.        ,\n",
              "        0.42314343, 0.38959321, 0.        , 0.        , 0.        ,\n",
              "        0.        , 0.        , 0.        , 0.        ],\n",
              "       [0.        , 0.        , 0.        , 0.        , 0.        ,\n",
              "        0.        , 0.        , 0.        , 0.81802614, 0.        ,\n",
              "        0.42314343, 0.38959321, 0.        , 0.        , 0.        ,\n",
              "        0.        , 0.        , 0.        , 0.        ],\n",
              "       [0.        , 0.        , 0.        , 0.        , 0.        ,\n",
              "        0.        , 0.        , 0.        , 0.        , 0.        ,\n",
              "        0.42314343, 0.38959321, 0.81802614, 0.        , 0.        ,\n",
              "        0.        , 0.        , 0.        , 0.        ],\n",
              "       [0.        , 0.        , 0.63316561, 0.        , 0.        ,\n",
              "        0.63316561, 0.        , 0.        , 0.        , 0.        ,\n",
              "        0.32751993, 0.30155151, 0.        , 0.        , 0.        ,\n",
              "        0.        , 0.        , 0.        , 0.        ],\n",
              "       [0.        , 0.        , 0.        , 0.        , 0.81802614,\n",
              "        0.        , 0.        , 0.        , 0.        , 0.        ,\n",
              "        0.42314343, 0.38959321, 0.        , 0.        , 0.        ,\n",
              "        0.        , 0.        , 0.        , 0.        ],\n",
              "       [0.        , 0.        , 0.        , 0.        , 0.        ,\n",
              "        0.        , 0.        , 0.        , 0.        , 0.        ,\n",
              "        0.        , 0.        , 0.        , 0.        , 0.63562699,\n",
              "        0.54588384, 0.        , 0.54588384, 0.        ],\n",
              "       [0.        , 0.56508522, 0.        , 0.        , 0.        ,\n",
              "        0.        , 0.        , 0.        , 0.        , 0.        ,\n",
              "        0.        , 0.35475147, 0.        , 0.74486918, 0.        ,\n",
              "        0.        , 0.        , 0.        , 0.        ],\n",
              "       [0.        , 0.49881319, 0.        , 0.65751246, 0.        ,\n",
              "        0.        , 0.        , 0.        , 0.        , 0.        ,\n",
              "        0.        , 0.        , 0.        , 0.        , 0.        ,\n",
              "        0.        , 0.56467934, 0.        , 0.        ],\n",
              "       [0.        , 0.        , 0.        , 0.        , 0.        ,\n",
              "        0.        , 0.        , 0.        , 0.        , 0.81802614,\n",
              "        0.42314343, 0.38959321, 0.        , 0.        , 0.        ,\n",
              "        0.        , 0.        , 0.        , 0.        ],\n",
              "       [0.        , 0.49881319, 0.        , 0.        , 0.        ,\n",
              "        0.        , 0.        , 0.        , 0.        , 0.        ,\n",
              "        0.        , 0.        , 0.        , 0.        , 0.        ,\n",
              "        0.        , 0.56467934, 0.        , 0.65751246]])"
            ]
          },
          "execution_count": 5,
          "metadata": {},
          "output_type": "execute_result"
        }
      ],
      "source": [
        "tfidfmatrix.toarray()"
      ]
    },
    {
      "cell_type": "code",
      "execution_count": 6,
      "metadata": {
        "colab": {
          "base_uri": "https://localhost:8080/",
          "height": 445
        },
        "id": "PmCUSihKDp6G",
        "outputId": "919f032a-40b2-49ea-af85-d771f300a472"
      },
      "outputs": [
        {
          "data": {
            "text/html": [
              "<div>\n",
              "<style scoped>\n",
              "    .dataframe tbody tr th:only-of-type {\n",
              "        vertical-align: middle;\n",
              "    }\n",
              "\n",
              "    .dataframe tbody tr th {\n",
              "        vertical-align: top;\n",
              "    }\n",
              "\n",
              "    .dataframe thead th {\n",
              "        text-align: right;\n",
              "    }\n",
              "</style>\n",
              "<table border=\"1\" class=\"dataframe\">\n",
              "  <thead>\n",
              "    <tr style=\"text-align: right;\">\n",
              "      <th></th>\n",
              "      <th>bandipur</th>\n",
              "      <th>bird</th>\n",
              "      <th>corbett</th>\n",
              "      <th>ghatprabha</th>\n",
              "      <th>gir</th>\n",
              "      <th>jim</th>\n",
              "      <th>kanha</th>\n",
              "      <th>kaziranga</th>\n",
              "      <th>keoladeo</th>\n",
              "      <th>manas</th>\n",
              "      <th>national</th>\n",
              "      <th>park</th>\n",
              "      <th>periyar</th>\n",
              "      <th>ranganathittu</th>\n",
              "      <th>ranthambore</th>\n",
              "      <th>reserve</th>\n",
              "      <th>sanctuary</th>\n",
              "      <th>tiger</th>\n",
              "      <th>vedanthangal</th>\n",
              "    </tr>\n",
              "  </thead>\n",
              "  <tbody>\n",
              "    <tr>\n",
              "      <th>d1</th>\n",
              "      <td>0.000000</td>\n",
              "      <td>0.000000</td>\n",
              "      <td>0.000000</td>\n",
              "      <td>0.000000</td>\n",
              "      <td>0.000000</td>\n",
              "      <td>0.000000</td>\n",
              "      <td>0.000000</td>\n",
              "      <td>0.818026</td>\n",
              "      <td>0.000000</td>\n",
              "      <td>0.000000</td>\n",
              "      <td>0.423143</td>\n",
              "      <td>0.389593</td>\n",
              "      <td>0.000000</td>\n",
              "      <td>0.000000</td>\n",
              "      <td>0.000000</td>\n",
              "      <td>0.000000</td>\n",
              "      <td>0.000000</td>\n",
              "      <td>0.000000</td>\n",
              "      <td>0.000000</td>\n",
              "    </tr>\n",
              "    <tr>\n",
              "      <th>d2</th>\n",
              "      <td>0.000000</td>\n",
              "      <td>0.000000</td>\n",
              "      <td>0.000000</td>\n",
              "      <td>0.000000</td>\n",
              "      <td>0.000000</td>\n",
              "      <td>0.000000</td>\n",
              "      <td>0.635627</td>\n",
              "      <td>0.000000</td>\n",
              "      <td>0.000000</td>\n",
              "      <td>0.000000</td>\n",
              "      <td>0.000000</td>\n",
              "      <td>0.000000</td>\n",
              "      <td>0.000000</td>\n",
              "      <td>0.000000</td>\n",
              "      <td>0.000000</td>\n",
              "      <td>0.545884</td>\n",
              "      <td>0.000000</td>\n",
              "      <td>0.545884</td>\n",
              "      <td>0.000000</td>\n",
              "    </tr>\n",
              "    <tr>\n",
              "      <th>d3</th>\n",
              "      <td>0.818026</td>\n",
              "      <td>0.000000</td>\n",
              "      <td>0.000000</td>\n",
              "      <td>0.000000</td>\n",
              "      <td>0.000000</td>\n",
              "      <td>0.000000</td>\n",
              "      <td>0.000000</td>\n",
              "      <td>0.000000</td>\n",
              "      <td>0.000000</td>\n",
              "      <td>0.000000</td>\n",
              "      <td>0.423143</td>\n",
              "      <td>0.389593</td>\n",
              "      <td>0.000000</td>\n",
              "      <td>0.000000</td>\n",
              "      <td>0.000000</td>\n",
              "      <td>0.000000</td>\n",
              "      <td>0.000000</td>\n",
              "      <td>0.000000</td>\n",
              "      <td>0.000000</td>\n",
              "    </tr>\n",
              "    <tr>\n",
              "      <th>d4</th>\n",
              "      <td>0.000000</td>\n",
              "      <td>0.000000</td>\n",
              "      <td>0.000000</td>\n",
              "      <td>0.000000</td>\n",
              "      <td>0.000000</td>\n",
              "      <td>0.000000</td>\n",
              "      <td>0.000000</td>\n",
              "      <td>0.000000</td>\n",
              "      <td>0.818026</td>\n",
              "      <td>0.000000</td>\n",
              "      <td>0.423143</td>\n",
              "      <td>0.389593</td>\n",
              "      <td>0.000000</td>\n",
              "      <td>0.000000</td>\n",
              "      <td>0.000000</td>\n",
              "      <td>0.000000</td>\n",
              "      <td>0.000000</td>\n",
              "      <td>0.000000</td>\n",
              "      <td>0.000000</td>\n",
              "    </tr>\n",
              "    <tr>\n",
              "      <th>d5</th>\n",
              "      <td>0.000000</td>\n",
              "      <td>0.000000</td>\n",
              "      <td>0.000000</td>\n",
              "      <td>0.000000</td>\n",
              "      <td>0.000000</td>\n",
              "      <td>0.000000</td>\n",
              "      <td>0.000000</td>\n",
              "      <td>0.000000</td>\n",
              "      <td>0.000000</td>\n",
              "      <td>0.000000</td>\n",
              "      <td>0.423143</td>\n",
              "      <td>0.389593</td>\n",
              "      <td>0.818026</td>\n",
              "      <td>0.000000</td>\n",
              "      <td>0.000000</td>\n",
              "      <td>0.000000</td>\n",
              "      <td>0.000000</td>\n",
              "      <td>0.000000</td>\n",
              "      <td>0.000000</td>\n",
              "    </tr>\n",
              "    <tr>\n",
              "      <th>d6</th>\n",
              "      <td>0.000000</td>\n",
              "      <td>0.000000</td>\n",
              "      <td>0.633166</td>\n",
              "      <td>0.000000</td>\n",
              "      <td>0.000000</td>\n",
              "      <td>0.633166</td>\n",
              "      <td>0.000000</td>\n",
              "      <td>0.000000</td>\n",
              "      <td>0.000000</td>\n",
              "      <td>0.000000</td>\n",
              "      <td>0.327520</td>\n",
              "      <td>0.301552</td>\n",
              "      <td>0.000000</td>\n",
              "      <td>0.000000</td>\n",
              "      <td>0.000000</td>\n",
              "      <td>0.000000</td>\n",
              "      <td>0.000000</td>\n",
              "      <td>0.000000</td>\n",
              "      <td>0.000000</td>\n",
              "    </tr>\n",
              "    <tr>\n",
              "      <th>d7</th>\n",
              "      <td>0.000000</td>\n",
              "      <td>0.000000</td>\n",
              "      <td>0.000000</td>\n",
              "      <td>0.000000</td>\n",
              "      <td>0.818026</td>\n",
              "      <td>0.000000</td>\n",
              "      <td>0.000000</td>\n",
              "      <td>0.000000</td>\n",
              "      <td>0.000000</td>\n",
              "      <td>0.000000</td>\n",
              "      <td>0.423143</td>\n",
              "      <td>0.389593</td>\n",
              "      <td>0.000000</td>\n",
              "      <td>0.000000</td>\n",
              "      <td>0.000000</td>\n",
              "      <td>0.000000</td>\n",
              "      <td>0.000000</td>\n",
              "      <td>0.000000</td>\n",
              "      <td>0.000000</td>\n",
              "    </tr>\n",
              "    <tr>\n",
              "      <th>d8</th>\n",
              "      <td>0.000000</td>\n",
              "      <td>0.000000</td>\n",
              "      <td>0.000000</td>\n",
              "      <td>0.000000</td>\n",
              "      <td>0.000000</td>\n",
              "      <td>0.000000</td>\n",
              "      <td>0.000000</td>\n",
              "      <td>0.000000</td>\n",
              "      <td>0.000000</td>\n",
              "      <td>0.000000</td>\n",
              "      <td>0.000000</td>\n",
              "      <td>0.000000</td>\n",
              "      <td>0.000000</td>\n",
              "      <td>0.000000</td>\n",
              "      <td>0.635627</td>\n",
              "      <td>0.545884</td>\n",
              "      <td>0.000000</td>\n",
              "      <td>0.545884</td>\n",
              "      <td>0.000000</td>\n",
              "    </tr>\n",
              "    <tr>\n",
              "      <th>d9</th>\n",
              "      <td>0.000000</td>\n",
              "      <td>0.565085</td>\n",
              "      <td>0.000000</td>\n",
              "      <td>0.000000</td>\n",
              "      <td>0.000000</td>\n",
              "      <td>0.000000</td>\n",
              "      <td>0.000000</td>\n",
              "      <td>0.000000</td>\n",
              "      <td>0.000000</td>\n",
              "      <td>0.000000</td>\n",
              "      <td>0.000000</td>\n",
              "      <td>0.354751</td>\n",
              "      <td>0.000000</td>\n",
              "      <td>0.744869</td>\n",
              "      <td>0.000000</td>\n",
              "      <td>0.000000</td>\n",
              "      <td>0.000000</td>\n",
              "      <td>0.000000</td>\n",
              "      <td>0.000000</td>\n",
              "    </tr>\n",
              "    <tr>\n",
              "      <th>d10</th>\n",
              "      <td>0.000000</td>\n",
              "      <td>0.498813</td>\n",
              "      <td>0.000000</td>\n",
              "      <td>0.657512</td>\n",
              "      <td>0.000000</td>\n",
              "      <td>0.000000</td>\n",
              "      <td>0.000000</td>\n",
              "      <td>0.000000</td>\n",
              "      <td>0.000000</td>\n",
              "      <td>0.000000</td>\n",
              "      <td>0.000000</td>\n",
              "      <td>0.000000</td>\n",
              "      <td>0.000000</td>\n",
              "      <td>0.000000</td>\n",
              "      <td>0.000000</td>\n",
              "      <td>0.000000</td>\n",
              "      <td>0.564679</td>\n",
              "      <td>0.000000</td>\n",
              "      <td>0.000000</td>\n",
              "    </tr>\n",
              "    <tr>\n",
              "      <th>d11</th>\n",
              "      <td>0.000000</td>\n",
              "      <td>0.000000</td>\n",
              "      <td>0.000000</td>\n",
              "      <td>0.000000</td>\n",
              "      <td>0.000000</td>\n",
              "      <td>0.000000</td>\n",
              "      <td>0.000000</td>\n",
              "      <td>0.000000</td>\n",
              "      <td>0.000000</td>\n",
              "      <td>0.818026</td>\n",
              "      <td>0.423143</td>\n",
              "      <td>0.389593</td>\n",
              "      <td>0.000000</td>\n",
              "      <td>0.000000</td>\n",
              "      <td>0.000000</td>\n",
              "      <td>0.000000</td>\n",
              "      <td>0.000000</td>\n",
              "      <td>0.000000</td>\n",
              "      <td>0.000000</td>\n",
              "    </tr>\n",
              "    <tr>\n",
              "      <th>d12</th>\n",
              "      <td>0.000000</td>\n",
              "      <td>0.498813</td>\n",
              "      <td>0.000000</td>\n",
              "      <td>0.000000</td>\n",
              "      <td>0.000000</td>\n",
              "      <td>0.000000</td>\n",
              "      <td>0.000000</td>\n",
              "      <td>0.000000</td>\n",
              "      <td>0.000000</td>\n",
              "      <td>0.000000</td>\n",
              "      <td>0.000000</td>\n",
              "      <td>0.000000</td>\n",
              "      <td>0.000000</td>\n",
              "      <td>0.000000</td>\n",
              "      <td>0.000000</td>\n",
              "      <td>0.000000</td>\n",
              "      <td>0.564679</td>\n",
              "      <td>0.000000</td>\n",
              "      <td>0.657512</td>\n",
              "    </tr>\n",
              "  </tbody>\n",
              "</table>\n",
              "</div>"
            ],
            "text/plain": [
              "     bandipur      bird   corbett  ghatprabha       gir       jim     kanha  \\\n",
              "d1   0.000000  0.000000  0.000000    0.000000  0.000000  0.000000  0.000000   \n",
              "d2   0.000000  0.000000  0.000000    0.000000  0.000000  0.000000  0.635627   \n",
              "d3   0.818026  0.000000  0.000000    0.000000  0.000000  0.000000  0.000000   \n",
              "d4   0.000000  0.000000  0.000000    0.000000  0.000000  0.000000  0.000000   \n",
              "d5   0.000000  0.000000  0.000000    0.000000  0.000000  0.000000  0.000000   \n",
              "d6   0.000000  0.000000  0.633166    0.000000  0.000000  0.633166  0.000000   \n",
              "d7   0.000000  0.000000  0.000000    0.000000  0.818026  0.000000  0.000000   \n",
              "d8   0.000000  0.000000  0.000000    0.000000  0.000000  0.000000  0.000000   \n",
              "d9   0.000000  0.565085  0.000000    0.000000  0.000000  0.000000  0.000000   \n",
              "d10  0.000000  0.498813  0.000000    0.657512  0.000000  0.000000  0.000000   \n",
              "d11  0.000000  0.000000  0.000000    0.000000  0.000000  0.000000  0.000000   \n",
              "d12  0.000000  0.498813  0.000000    0.000000  0.000000  0.000000  0.000000   \n",
              "\n",
              "     kaziranga  keoladeo     manas  national      park   periyar  \\\n",
              "d1    0.818026  0.000000  0.000000  0.423143  0.389593  0.000000   \n",
              "d2    0.000000  0.000000  0.000000  0.000000  0.000000  0.000000   \n",
              "d3    0.000000  0.000000  0.000000  0.423143  0.389593  0.000000   \n",
              "d4    0.000000  0.818026  0.000000  0.423143  0.389593  0.000000   \n",
              "d5    0.000000  0.000000  0.000000  0.423143  0.389593  0.818026   \n",
              "d6    0.000000  0.000000  0.000000  0.327520  0.301552  0.000000   \n",
              "d7    0.000000  0.000000  0.000000  0.423143  0.389593  0.000000   \n",
              "d8    0.000000  0.000000  0.000000  0.000000  0.000000  0.000000   \n",
              "d9    0.000000  0.000000  0.000000  0.000000  0.354751  0.000000   \n",
              "d10   0.000000  0.000000  0.000000  0.000000  0.000000  0.000000   \n",
              "d11   0.000000  0.000000  0.818026  0.423143  0.389593  0.000000   \n",
              "d12   0.000000  0.000000  0.000000  0.000000  0.000000  0.000000   \n",
              "\n",
              "     ranganathittu  ranthambore   reserve  sanctuary     tiger  vedanthangal  \n",
              "d1        0.000000     0.000000  0.000000   0.000000  0.000000      0.000000  \n",
              "d2        0.000000     0.000000  0.545884   0.000000  0.545884      0.000000  \n",
              "d3        0.000000     0.000000  0.000000   0.000000  0.000000      0.000000  \n",
              "d4        0.000000     0.000000  0.000000   0.000000  0.000000      0.000000  \n",
              "d5        0.000000     0.000000  0.000000   0.000000  0.000000      0.000000  \n",
              "d6        0.000000     0.000000  0.000000   0.000000  0.000000      0.000000  \n",
              "d7        0.000000     0.000000  0.000000   0.000000  0.000000      0.000000  \n",
              "d8        0.000000     0.635627  0.545884   0.000000  0.545884      0.000000  \n",
              "d9        0.744869     0.000000  0.000000   0.000000  0.000000      0.000000  \n",
              "d10       0.000000     0.000000  0.000000   0.564679  0.000000      0.000000  \n",
              "d11       0.000000     0.000000  0.000000   0.000000  0.000000      0.000000  \n",
              "d12       0.000000     0.000000  0.000000   0.564679  0.000000      0.657512  "
            ]
          },
          "execution_count": 6,
          "metadata": {},
          "output_type": "execute_result"
        }
      ],
      "source": [
        "from pandas import DataFrame\n",
        "x = DataFrame(tfidfmatrix.toarray(),columns = v.get_feature_names_out(),index=['d1','d2','d3','d4','d5','d6','d7','d8','d9','d10','d11','d12'])\n",
        "x"
      ]
    },
    {
      "cell_type": "markdown",
      "metadata": {
        "id": "GucIeJJzksJh"
      },
      "source": [
        "#2. Print all feature names."
      ]
    },
    {
      "cell_type": "code",
      "execution_count": 7,
      "metadata": {
        "colab": {
          "base_uri": "https://localhost:8080/"
        },
        "id": "q9N_pbrtEHs7",
        "outputId": "d41dd24e-55db-4604-ac55-4bfb62d60b03"
      },
      "outputs": [
        {
          "data": {
            "text/plain": [
              "array(['bandipur', 'bird', 'corbett', 'ghatprabha', 'gir', 'jim', 'kanha',\n",
              "       'kaziranga', 'keoladeo', 'manas', 'national', 'park', 'periyar',\n",
              "       'ranganathittu', 'ranthambore', 'reserve', 'sanctuary', 'tiger',\n",
              "       'vedanthangal'], dtype=object)"
            ]
          },
          "execution_count": 7,
          "metadata": {},
          "output_type": "execute_result"
        }
      ],
      "source": [
        "v.get_feature_names_out()"
      ]
    },
    {
      "cell_type": "code",
      "execution_count": 8,
      "metadata": {
        "colab": {
          "base_uri": "https://localhost:8080/"
        },
        "id": "LEZ-au_GG-C_",
        "outputId": "d02021ae-51fd-4fbf-9952-9dc55e2a0847"
      },
      "outputs": [
        {
          "data": {
            "text/plain": [
              "['kaziranga',\n",
              " 'national',\n",
              " 'park',\n",
              " 'kanha',\n",
              " 'reserve',\n",
              " 'tiger',\n",
              " 'bandipur',\n",
              " 'national',\n",
              " 'park',\n",
              " 'keoladeo',\n",
              " 'national',\n",
              " 'park',\n",
              " 'national',\n",
              " 'park',\n",
              " 'periyar',\n",
              " 'corbett',\n",
              " 'jim',\n",
              " 'national',\n",
              " 'park',\n",
              " 'gir',\n",
              " 'national',\n",
              " 'park',\n",
              " 'ranthambore',\n",
              " 'reserve',\n",
              " 'tiger',\n",
              " 'bird',\n",
              " 'park',\n",
              " 'ranganathittu',\n",
              " 'bird',\n",
              " 'ghatprabha',\n",
              " 'sanctuary',\n",
              " 'manas',\n",
              " 'national',\n",
              " 'park',\n",
              " 'bird',\n",
              " 'sanctuary',\n",
              " 'vedanthangal']"
            ]
          },
          "execution_count": 8,
          "metadata": {},
          "output_type": "execute_result"
        }
      ],
      "source": [
        "tx=[]\n",
        "for i in text:\n",
        "  for j in v.get_feature_names_out():\n",
        "    if(j in i):\n",
        "      tx.append(j)\n",
        "tx\n"
      ]
    },
    {
      "cell_type": "code",
      "execution_count": 22,
      "metadata": {
        "id": "PyCYEr33Gub-"
      },
      "outputs": [
        {
          "data": {
            "text/html": [
              "<div>\n",
              "<style scoped>\n",
              "    .dataframe tbody tr th:only-of-type {\n",
              "        vertical-align: middle;\n",
              "    }\n",
              "\n",
              "    .dataframe tbody tr th {\n",
              "        vertical-align: top;\n",
              "    }\n",
              "\n",
              "    .dataframe thead th {\n",
              "        text-align: right;\n",
              "    }\n",
              "</style>\n",
              "<table border=\"1\" class=\"dataframe\">\n",
              "  <thead>\n",
              "    <tr style=\"text-align: right;\">\n",
              "      <th></th>\n",
              "      <th>x</th>\n",
              "      <th>y</th>\n",
              "    </tr>\n",
              "  </thead>\n",
              "  <tbody>\n",
              "    <tr>\n",
              "      <th>0</th>\n",
              "      <td>kaziranga national park</td>\n",
              "      <td>kaziranga</td>\n",
              "    </tr>\n",
              "    <tr>\n",
              "      <th>1</th>\n",
              "      <td>kanha tiger reserve</td>\n",
              "      <td>national</td>\n",
              "    </tr>\n",
              "    <tr>\n",
              "      <th>2</th>\n",
              "      <td>bandipur national park</td>\n",
              "      <td>park</td>\n",
              "    </tr>\n",
              "    <tr>\n",
              "      <th>3</th>\n",
              "      <td>keoladeo national park</td>\n",
              "      <td>kanha</td>\n",
              "    </tr>\n",
              "    <tr>\n",
              "      <th>4</th>\n",
              "      <td>periyar national park</td>\n",
              "      <td>reserve</td>\n",
              "    </tr>\n",
              "    <tr>\n",
              "      <th>5</th>\n",
              "      <td>jim corbett national park</td>\n",
              "      <td>tiger</td>\n",
              "    </tr>\n",
              "    <tr>\n",
              "      <th>6</th>\n",
              "      <td>gir national park</td>\n",
              "      <td>bandipur</td>\n",
              "    </tr>\n",
              "    <tr>\n",
              "      <th>7</th>\n",
              "      <td>ranthambore tiger reserve</td>\n",
              "      <td>national</td>\n",
              "    </tr>\n",
              "    <tr>\n",
              "      <th>8</th>\n",
              "      <td>ranganathittu bird park</td>\n",
              "      <td>park</td>\n",
              "    </tr>\n",
              "    <tr>\n",
              "      <th>9</th>\n",
              "      <td>ghatprabha bird sanctuary</td>\n",
              "      <td>keoladeo</td>\n",
              "    </tr>\n",
              "    <tr>\n",
              "      <th>10</th>\n",
              "      <td>manas national park</td>\n",
              "      <td>national</td>\n",
              "    </tr>\n",
              "    <tr>\n",
              "      <th>11</th>\n",
              "      <td>vedanthangal bird sanctuary</td>\n",
              "      <td>park</td>\n",
              "    </tr>\n",
              "  </tbody>\n",
              "</table>\n",
              "</div>"
            ],
            "text/plain": [
              "                              x          y\n",
              "0       kaziranga national park  kaziranga\n",
              "1           kanha tiger reserve   national\n",
              "2        bandipur national park       park\n",
              "3        keoladeo national park      kanha\n",
              "4         periyar national park    reserve\n",
              "5     jim corbett national park      tiger\n",
              "6             gir national park   bandipur\n",
              "7     ranthambore tiger reserve   national\n",
              "8       ranganathittu bird park       park\n",
              "9     ghatprabha bird sanctuary   keoladeo\n",
              "10          manas national park   national\n",
              "11  vedanthangal bird sanctuary       park"
            ]
          },
          "execution_count": 22,
          "metadata": {},
          "output_type": "execute_result"
        }
      ],
      "source": [
        "df1 = DataFrame(zip(text, tx),columns=['x','y'])\n",
        "df1"
      ]
    },
    {
      "cell_type": "markdown",
      "metadata": {
        "id": "tQO4Qd__k0Gy"
      },
      "source": [
        "#3. Create K-Means clusters for K=2."
      ]
    },
    {
      "cell_type": "code",
      "execution_count": 10,
      "metadata": {
        "id": "XgoEoxyxEcbF"
      },
      "outputs": [],
      "source": [
        "from sklearn.cluster import KMeans"
      ]
    },
    {
      "cell_type": "code",
      "execution_count": 11,
      "metadata": {
        "id": "wJqepsGoEpj4"
      },
      "outputs": [],
      "source": [
        "kmeans = KMeans(n_clusters = 2)"
      ]
    },
    {
      "cell_type": "code",
      "execution_count": 12,
      "metadata": {
        "colab": {
          "base_uri": "https://localhost:8080/",
          "height": 129
        },
        "id": "dsnIeVIiE7DT",
        "outputId": "750291a6-0fa0-4eb5-d043-76d4d99b0119"
      },
      "outputs": [
        {
          "name": "stderr",
          "output_type": "stream",
          "text": [
            "c:\\Users\\DELL\\AppData\\Local\\Programs\\Python\\Python311\\Lib\\site-packages\\sklearn\\cluster\\_kmeans.py:1412: FutureWarning: The default value of `n_init` will change from 10 to 'auto' in 1.4. Set the value of `n_init` explicitly to suppress the warning\n",
            "  super()._check_params_vs_input(X, default_n_init=10)\n"
          ]
        },
        {
          "data": {
            "text/html": [
              "<style>#sk-container-id-1 {color: black;}#sk-container-id-1 pre{padding: 0;}#sk-container-id-1 div.sk-toggleable {background-color: white;}#sk-container-id-1 label.sk-toggleable__label {cursor: pointer;display: block;width: 100%;margin-bottom: 0;padding: 0.3em;box-sizing: border-box;text-align: center;}#sk-container-id-1 label.sk-toggleable__label-arrow:before {content: \"▸\";float: left;margin-right: 0.25em;color: #696969;}#sk-container-id-1 label.sk-toggleable__label-arrow:hover:before {color: black;}#sk-container-id-1 div.sk-estimator:hover label.sk-toggleable__label-arrow:before {color: black;}#sk-container-id-1 div.sk-toggleable__content {max-height: 0;max-width: 0;overflow: hidden;text-align: left;background-color: #f0f8ff;}#sk-container-id-1 div.sk-toggleable__content pre {margin: 0.2em;color: black;border-radius: 0.25em;background-color: #f0f8ff;}#sk-container-id-1 input.sk-toggleable__control:checked~div.sk-toggleable__content {max-height: 200px;max-width: 100%;overflow: auto;}#sk-container-id-1 input.sk-toggleable__control:checked~label.sk-toggleable__label-arrow:before {content: \"▾\";}#sk-container-id-1 div.sk-estimator input.sk-toggleable__control:checked~label.sk-toggleable__label {background-color: #d4ebff;}#sk-container-id-1 div.sk-label input.sk-toggleable__control:checked~label.sk-toggleable__label {background-color: #d4ebff;}#sk-container-id-1 input.sk-hidden--visually {border: 0;clip: rect(1px 1px 1px 1px);clip: rect(1px, 1px, 1px, 1px);height: 1px;margin: -1px;overflow: hidden;padding: 0;position: absolute;width: 1px;}#sk-container-id-1 div.sk-estimator {font-family: monospace;background-color: #f0f8ff;border: 1px dotted black;border-radius: 0.25em;box-sizing: border-box;margin-bottom: 0.5em;}#sk-container-id-1 div.sk-estimator:hover {background-color: #d4ebff;}#sk-container-id-1 div.sk-parallel-item::after {content: \"\";width: 100%;border-bottom: 1px solid gray;flex-grow: 1;}#sk-container-id-1 div.sk-label:hover label.sk-toggleable__label {background-color: #d4ebff;}#sk-container-id-1 div.sk-serial::before {content: \"\";position: absolute;border-left: 1px solid gray;box-sizing: border-box;top: 0;bottom: 0;left: 50%;z-index: 0;}#sk-container-id-1 div.sk-serial {display: flex;flex-direction: column;align-items: center;background-color: white;padding-right: 0.2em;padding-left: 0.2em;position: relative;}#sk-container-id-1 div.sk-item {position: relative;z-index: 1;}#sk-container-id-1 div.sk-parallel {display: flex;align-items: stretch;justify-content: center;background-color: white;position: relative;}#sk-container-id-1 div.sk-item::before, #sk-container-id-1 div.sk-parallel-item::before {content: \"\";position: absolute;border-left: 1px solid gray;box-sizing: border-box;top: 0;bottom: 0;left: 50%;z-index: -1;}#sk-container-id-1 div.sk-parallel-item {display: flex;flex-direction: column;z-index: 1;position: relative;background-color: white;}#sk-container-id-1 div.sk-parallel-item:first-child::after {align-self: flex-end;width: 50%;}#sk-container-id-1 div.sk-parallel-item:last-child::after {align-self: flex-start;width: 50%;}#sk-container-id-1 div.sk-parallel-item:only-child::after {width: 0;}#sk-container-id-1 div.sk-dashed-wrapped {border: 1px dashed gray;margin: 0 0.4em 0.5em 0.4em;box-sizing: border-box;padding-bottom: 0.4em;background-color: white;}#sk-container-id-1 div.sk-label label {font-family: monospace;font-weight: bold;display: inline-block;line-height: 1.2em;}#sk-container-id-1 div.sk-label-container {text-align: center;}#sk-container-id-1 div.sk-container {/* jupyter's `normalize.less` sets `[hidden] { display: none; }` but bootstrap.min.css set `[hidden] { display: none !important; }` so we also need the `!important` here to be able to override the default hidden behavior on the sphinx rendered scikit-learn.org. See: https://github.com/scikit-learn/scikit-learn/issues/21755 */display: inline-block !important;position: relative;}#sk-container-id-1 div.sk-text-repr-fallback {display: none;}</style><div id=\"sk-container-id-1\" class=\"sk-top-container\"><div class=\"sk-text-repr-fallback\"><pre>KMeans(n_clusters=2)</pre><b>In a Jupyter environment, please rerun this cell to show the HTML representation or trust the notebook. <br />On GitHub, the HTML representation is unable to render, please try loading this page with nbviewer.org.</b></div><div class=\"sk-container\" hidden><div class=\"sk-item\"><div class=\"sk-estimator sk-toggleable\"><input class=\"sk-toggleable__control sk-hidden--visually\" id=\"sk-estimator-id-1\" type=\"checkbox\" checked><label for=\"sk-estimator-id-1\" class=\"sk-toggleable__label sk-toggleable__label-arrow\">KMeans</label><div class=\"sk-toggleable__content\"><pre>KMeans(n_clusters=2)</pre></div></div></div></div></div>"
            ],
            "text/plain": [
              "KMeans(n_clusters=2)"
            ]
          },
          "execution_count": 12,
          "metadata": {},
          "output_type": "execute_result"
        }
      ],
      "source": [
        "kmeans.fit(tfidfmatrix,tx)"
      ]
    },
    {
      "cell_type": "markdown",
      "metadata": {
        "id": "FnlOkuhpk43x"
      },
      "source": [
        "#4. Print cluster centroids."
      ]
    },
    {
      "cell_type": "code",
      "execution_count": 13,
      "metadata": {
        "colab": {
          "base_uri": "https://localhost:8080/"
        },
        "id": "R0534idzFNE-",
        "outputId": "e66eddcf-0dd1-48ba-eba5-21099089e080"
      },
      "outputs": [
        {
          "data": {
            "text/plain": [
              "array([[0.        , 0.31254232, 0.        , 0.13150249, 0.        ,\n",
              "        0.        , 0.1271254 , 0.        , 0.        , 0.        ,\n",
              "        0.        , 0.07095029, 0.        , 0.14897384, 0.1271254 ,\n",
              "        0.21835354, 0.22587174, 0.21835354, 0.13150249],\n",
              "       [0.11686088, 0.        , 0.09045223, 0.        , 0.11686088,\n",
              "        0.09045223, 0.        , 0.11686088, 0.11686088, 0.11686088,\n",
              "        0.40948293, 0.37701582, 0.11686088, 0.        , 0.        ,\n",
              "        0.        , 0.        , 0.        , 0.        ]])"
            ]
          },
          "execution_count": 13,
          "metadata": {},
          "output_type": "execute_result"
        }
      ],
      "source": [
        "kmeans.cluster_centers_"
      ]
    },
    {
      "cell_type": "markdown",
      "metadata": {
        "id": "u9PkkWEmk7qN"
      },
      "source": [
        "#5. Print the cluster labels."
      ]
    },
    {
      "cell_type": "code",
      "execution_count": 14,
      "metadata": {
        "colab": {
          "base_uri": "https://localhost:8080/"
        },
        "id": "vfW1kSXIGOz2",
        "outputId": "d8aab6c8-7d6f-4229-98dc-2749ef151312"
      },
      "outputs": [
        {
          "data": {
            "text/plain": [
              "array([1, 0, 1, 1, 1, 1, 1, 0, 0, 0, 1, 0])"
            ]
          },
          "execution_count": 14,
          "metadata": {},
          "output_type": "execute_result"
        }
      ],
      "source": [
        "kmeans.labels_"
      ]
    },
    {
      "cell_type": "code",
      "execution_count": 15,
      "metadata": {
        "colab": {
          "base_uri": "https://localhost:8080/"
        },
        "id": "Hrx7FKx7GQ2b",
        "outputId": "fade3784-57fb-4a15-cd4c-905b38e57647"
      },
      "outputs": [
        {
          "data": {
            "text/plain": [
              "2"
            ]
          },
          "execution_count": 15,
          "metadata": {},
          "output_type": "execute_result"
        }
      ],
      "source": [
        "kmeans.n_iter_"
      ]
    },
    {
      "cell_type": "code",
      "execution_count": 23,
      "metadata": {
        "id": "WaGOhraiGS_P"
      },
      "outputs": [
        {
          "data": {
            "text/html": [
              "<div>\n",
              "<style scoped>\n",
              "    .dataframe tbody tr th:only-of-type {\n",
              "        vertical-align: middle;\n",
              "    }\n",
              "\n",
              "    .dataframe tbody tr th {\n",
              "        vertical-align: top;\n",
              "    }\n",
              "\n",
              "    .dataframe thead th {\n",
              "        text-align: right;\n",
              "    }\n",
              "</style>\n",
              "<table border=\"1\" class=\"dataframe\">\n",
              "  <thead>\n",
              "    <tr style=\"text-align: right;\">\n",
              "      <th></th>\n",
              "      <th>cluster</th>\n",
              "    </tr>\n",
              "  </thead>\n",
              "  <tbody>\n",
              "    <tr>\n",
              "      <th>0</th>\n",
              "      <td>1</td>\n",
              "    </tr>\n",
              "    <tr>\n",
              "      <th>1</th>\n",
              "      <td>0</td>\n",
              "    </tr>\n",
              "    <tr>\n",
              "      <th>2</th>\n",
              "      <td>1</td>\n",
              "    </tr>\n",
              "    <tr>\n",
              "      <th>3</th>\n",
              "      <td>1</td>\n",
              "    </tr>\n",
              "    <tr>\n",
              "      <th>4</th>\n",
              "      <td>1</td>\n",
              "    </tr>\n",
              "    <tr>\n",
              "      <th>5</th>\n",
              "      <td>1</td>\n",
              "    </tr>\n",
              "    <tr>\n",
              "      <th>6</th>\n",
              "      <td>1</td>\n",
              "    </tr>\n",
              "    <tr>\n",
              "      <th>7</th>\n",
              "      <td>0</td>\n",
              "    </tr>\n",
              "    <tr>\n",
              "      <th>8</th>\n",
              "      <td>0</td>\n",
              "    </tr>\n",
              "    <tr>\n",
              "      <th>9</th>\n",
              "      <td>0</td>\n",
              "    </tr>\n",
              "    <tr>\n",
              "      <th>10</th>\n",
              "      <td>1</td>\n",
              "    </tr>\n",
              "    <tr>\n",
              "      <th>11</th>\n",
              "      <td>0</td>\n",
              "    </tr>\n",
              "  </tbody>\n",
              "</table>\n",
              "</div>"
            ],
            "text/plain": [
              "    cluster\n",
              "0         1\n",
              "1         0\n",
              "2         1\n",
              "3         1\n",
              "4         1\n",
              "5         1\n",
              "6         1\n",
              "7         0\n",
              "8         0\n",
              "9         0\n",
              "10        1\n",
              "11        0"
            ]
          },
          "execution_count": 23,
          "metadata": {},
          "output_type": "execute_result"
        }
      ],
      "source": [
        "df2 = DataFrame(kmeans.labels_,columns = ['cluster'])\n",
        "df2"
      ]
    },
    {
      "cell_type": "markdown",
      "metadata": {
        "id": "fkJIVdupk_8v"
      },
      "source": [
        "#6. Display the documents and cluster centroids in a dataframe."
      ]
    },
    {
      "cell_type": "code",
      "execution_count": 24,
      "metadata": {
        "colab": {
          "base_uri": "https://localhost:8080/",
          "height": 425
        },
        "id": "3kY0GEZeGcIN",
        "outputId": "40a349fb-d6e9-4747-bfdf-58d186a72fc9"
      },
      "outputs": [
        {
          "data": {
            "text/html": [
              "<div>\n",
              "<style scoped>\n",
              "    .dataframe tbody tr th:only-of-type {\n",
              "        vertical-align: middle;\n",
              "    }\n",
              "\n",
              "    .dataframe tbody tr th {\n",
              "        vertical-align: top;\n",
              "    }\n",
              "\n",
              "    .dataframe thead th {\n",
              "        text-align: right;\n",
              "    }\n",
              "</style>\n",
              "<table border=\"1\" class=\"dataframe\">\n",
              "  <thead>\n",
              "    <tr style=\"text-align: right;\">\n",
              "      <th></th>\n",
              "      <th>x</th>\n",
              "      <th>y</th>\n",
              "      <th>cluster</th>\n",
              "    </tr>\n",
              "  </thead>\n",
              "  <tbody>\n",
              "    <tr>\n",
              "      <th>0</th>\n",
              "      <td>kaziranga national park</td>\n",
              "      <td>kaziranga</td>\n",
              "      <td>1</td>\n",
              "    </tr>\n",
              "    <tr>\n",
              "      <th>1</th>\n",
              "      <td>kanha tiger reserve</td>\n",
              "      <td>national</td>\n",
              "      <td>0</td>\n",
              "    </tr>\n",
              "    <tr>\n",
              "      <th>2</th>\n",
              "      <td>bandipur national park</td>\n",
              "      <td>park</td>\n",
              "      <td>1</td>\n",
              "    </tr>\n",
              "    <tr>\n",
              "      <th>3</th>\n",
              "      <td>keoladeo national park</td>\n",
              "      <td>kanha</td>\n",
              "      <td>1</td>\n",
              "    </tr>\n",
              "    <tr>\n",
              "      <th>4</th>\n",
              "      <td>periyar national park</td>\n",
              "      <td>reserve</td>\n",
              "      <td>1</td>\n",
              "    </tr>\n",
              "    <tr>\n",
              "      <th>5</th>\n",
              "      <td>jim corbett national park</td>\n",
              "      <td>tiger</td>\n",
              "      <td>1</td>\n",
              "    </tr>\n",
              "    <tr>\n",
              "      <th>6</th>\n",
              "      <td>gir national park</td>\n",
              "      <td>bandipur</td>\n",
              "      <td>1</td>\n",
              "    </tr>\n",
              "    <tr>\n",
              "      <th>7</th>\n",
              "      <td>ranthambore tiger reserve</td>\n",
              "      <td>national</td>\n",
              "      <td>0</td>\n",
              "    </tr>\n",
              "    <tr>\n",
              "      <th>8</th>\n",
              "      <td>ranganathittu bird park</td>\n",
              "      <td>park</td>\n",
              "      <td>0</td>\n",
              "    </tr>\n",
              "    <tr>\n",
              "      <th>9</th>\n",
              "      <td>ghatprabha bird sanctuary</td>\n",
              "      <td>keoladeo</td>\n",
              "      <td>0</td>\n",
              "    </tr>\n",
              "    <tr>\n",
              "      <th>10</th>\n",
              "      <td>manas national park</td>\n",
              "      <td>national</td>\n",
              "      <td>1</td>\n",
              "    </tr>\n",
              "    <tr>\n",
              "      <th>11</th>\n",
              "      <td>vedanthangal bird sanctuary</td>\n",
              "      <td>park</td>\n",
              "      <td>0</td>\n",
              "    </tr>\n",
              "  </tbody>\n",
              "</table>\n",
              "</div>"
            ],
            "text/plain": [
              "                              x          y  cluster\n",
              "0       kaziranga national park  kaziranga        1\n",
              "1           kanha tiger reserve   national        0\n",
              "2        bandipur national park       park        1\n",
              "3        keoladeo national park      kanha        1\n",
              "4         periyar national park    reserve        1\n",
              "5     jim corbett national park      tiger        1\n",
              "6             gir national park   bandipur        1\n",
              "7     ranthambore tiger reserve   national        0\n",
              "8       ranganathittu bird park       park        0\n",
              "9     ghatprabha bird sanctuary   keoladeo        0\n",
              "10          manas national park   national        1\n",
              "11  vedanthangal bird sanctuary       park        0"
            ]
          },
          "execution_count": 24,
          "metadata": {},
          "output_type": "execute_result"
        }
      ],
      "source": [
        "import pandas as pd\n",
        "frame=pd.concat([df1,df2],axis=1)\n",
        "frame"
      ]
    },
    {
      "cell_type": "markdown",
      "metadata": {
        "id": "1JedTiStlC8F"
      },
      "source": [
        "#7. Plot graph for the documents and cluster centroids."
      ]
    },
    {
      "cell_type": "code",
      "execution_count": 19,
      "metadata": {
        "colab": {
          "base_uri": "https://localhost:8080/",
          "height": 452
        },
        "id": "DmrzymkXGfX9",
        "outputId": "b04ea50f-054c-42cf-baf0-86cecfc146e0"
      },
      "outputs": [
        {
          "data": {
            "image/png": "[encoded data removed]",
            "text/plain": [
              "<Figure size 640x480 with 1 Axes>"
            ]
          },
          "metadata": {},
          "output_type": "display_data"
        }
      ],
      "source": [
        "import matplotlib.pyplot as plt\n",
        "plt.scatter(kmeans.cluster_centers_[:,0],kmeans.cluster_centers_[:,1],c= 'red',marker = 'o')\n",
        "plt.title('Data points and clusters')\n",
        "plt.show()"
      ]
    },
    {
      "cell_type": "markdown",
      "metadata": {
        "id": "NhZglMXIlEnW"
      },
      "source": [
        "#8. Predict the cluster for the document “bhadra wildlife sanctuary”."
      ]
    },
    {
      "cell_type": "code",
      "execution_count": 20,
      "metadata": {
        "id": "MtzL9aWIlnQm"
      },
      "outputs": [],
      "source": [
        "import gensim\n",
        "# Load the text data\n",
        "text_data = ['bhadra wildlife sanctuary']"
      ]
    },
    {
      "cell_type": "code",
      "execution_count": 21,
      "metadata": {
        "colab": {
          "base_uri": "https://localhost:8080/"
        },
        "id": "G25uosB2l0jJ",
        "outputId": "d672ea30-428e-44b8-f2a4-93174e611781"
      },
      "outputs": [
        {
          "name": "stdout",
          "output_type": "stream",
          "text": [
            "[0]\n"
          ]
        }
      ],
      "source": [
        "# Vectorizing the test data\n",
        "test_data_vectorized = v.transform(text_data)\n",
        "\n",
        "# Predicting the sentiment of the test data\n",
        "prediction = kmeans.predict(test_data_vectorized)\n",
        "\n",
        "print(prediction)"
      ]
    }
  ],
  "metadata": {
    "colab": {
      "provenance": []
    },
    "kernelspec": {
      "display_name": "Python 3",
      "name": "python3"
    },
    "language_info": {
      "codemirror_mode": {
        "name": "ipython",
        "version": 3
      },
      "file_extension": ".py",
      "mimetype": "text/x-python",
      "name": "python",
      "nbconvert_exporter": "python",
      "pygments_lexer": "ipython3",
      "version": "3.11.4"
    }
  },
  "nbformat": 4,
  "nbformat_minor": 0
}
